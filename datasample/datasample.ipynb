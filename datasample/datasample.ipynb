{
 "cells": [
  {
   "cell_type": "code",
   "execution_count": 1,
   "id": "2f9f02cd-c709-43be-908a-91a77d00f190",
   "metadata": {},
   "outputs": [
    {
     "name": "stdout",
     "output_type": "stream",
     "text": [
      "Collecting faker\n",
      "  Downloading Faker-24.0.0-py3-none-any.whl.metadata (15 kB)\n",
      "Requirement already satisfied: python-dateutil>=2.4 in /Users/ronald/Work/jupyter/env/lib/python3.10/site-packages (from faker) (2.9.0.post0)\n",
      "Requirement already satisfied: six>=1.5 in /Users/ronald/Work/jupyter/env/lib/python3.10/site-packages (from python-dateutil>=2.4->faker) (1.16.0)\n",
      "Downloading Faker-24.0.0-py3-none-any.whl (1.8 MB)\n",
      "\u001b[2K   \u001b[90m━━━━━━━━━━━━━━━━━━━━━━━━━━━━━━━━━━━━━━━━\u001b[0m \u001b[32m1.8/1.8 MB\u001b[0m \u001b[31m8.1 MB/s\u001b[0m eta \u001b[36m0:00:00\u001b[0m00:01\u001b[0m00:01\u001b[0m\n",
      "\u001b[?25hInstalling collected packages: faker\n",
      "Successfully installed faker-24.0.0\n"
     ]
    }
   ],
   "source": [
    "!pip install faker"
   ]
  },
  {
   "cell_type": "code",
   "execution_count": 2,
   "id": "5aa7c491-30ea-4b1b-874f-cbfab7619a9a",
   "metadata": {},
   "outputs": [],
   "source": [
    "import pandas as pd\n",
    "from faker import Faker"
   ]
  },
  {
   "cell_type": "code",
   "execution_count": 3,
   "id": "1e930471-3742-4eb0-9754-a9107d6a4901",
   "metadata": {},
   "outputs": [],
   "source": [
    "fake = Faker('es_ES')"
   ]
  },
  {
   "cell_type": "code",
   "execution_count": 4,
   "id": "da0877de-05d1-4bc1-910c-67317e6c98e9",
   "metadata": {},
   "outputs": [
    {
     "data": {
      "text/plain": [
       "'mjuarez@example.com'"
      ]
     },
     "execution_count": 4,
     "metadata": {},
     "output_type": "execute_result"
    }
   ],
   "source": [
    "fake.email()"
   ]
  },
  {
   "cell_type": "code",
   "execution_count": 5,
   "id": "16fe05b2-47b4-4774-8a44-8e4f202b2feb",
   "metadata": {},
   "outputs": [],
   "source": [
    "ld = []\n",
    "for n in range(10000):\n",
    "    ld.append({\n",
    "        'name': fake.name(),\n",
    "        'lastname': fake.last_name(),\n",
    "        'email': fake.email(),\n",
    "        'birth_date': fake.date_of_birth(),\n",
    "        'country': fake.country(),\n",
    "        'id': fake.iana_id()\n",
    "    })"
   ]
  },
  {
   "cell_type": "code",
   "execution_count": 6,
   "id": "6462322a-3e0f-49c3-9e11-4f1e6e9da800",
   "metadata": {},
   "outputs": [
    {
     "data": {
      "text/html": [
       "<div>\n",
       "<style scoped>\n",
       "    .dataframe tbody tr th:only-of-type {\n",
       "        vertical-align: middle;\n",
       "    }\n",
       "\n",
       "    .dataframe tbody tr th {\n",
       "        vertical-align: top;\n",
       "    }\n",
       "\n",
       "    .dataframe thead th {\n",
       "        text-align: right;\n",
       "    }\n",
       "</style>\n",
       "<table border=\"1\" class=\"dataframe\">\n",
       "  <thead>\n",
       "    <tr style=\"text-align: right;\">\n",
       "      <th></th>\n",
       "      <th>name</th>\n",
       "      <th>lastname</th>\n",
       "      <th>email</th>\n",
       "      <th>birth_date</th>\n",
       "      <th>country</th>\n",
       "      <th>id</th>\n",
       "    </tr>\n",
       "  </thead>\n",
       "  <tbody>\n",
       "    <tr>\n",
       "      <th>0</th>\n",
       "      <td>Marcelo Nebot Garcia</td>\n",
       "      <td>Trujillo</td>\n",
       "      <td>herminia19@example.com</td>\n",
       "      <td>1962-10-21</td>\n",
       "      <td>Chipre</td>\n",
       "      <td>7243895</td>\n",
       "    </tr>\n",
       "    <tr>\n",
       "      <th>1</th>\n",
       "      <td>Desiderio de Ugarte</td>\n",
       "      <td>Marco</td>\n",
       "      <td>teobaldo32@example.com</td>\n",
       "      <td>1914-06-04</td>\n",
       "      <td>Líbano</td>\n",
       "      <td>2106330</td>\n",
       "    </tr>\n",
       "    <tr>\n",
       "      <th>2</th>\n",
       "      <td>Macarena Arellano-Azorin</td>\n",
       "      <td>Clemente</td>\n",
       "      <td>inesbarbera@example.org</td>\n",
       "      <td>1989-04-05</td>\n",
       "      <td>República Centroafricana</td>\n",
       "      <td>861256</td>\n",
       "    </tr>\n",
       "  </tbody>\n",
       "</table>\n",
       "</div>"
      ],
      "text/plain": [
       "                       name  lastname                    email  birth_date  \\\n",
       "0      Marcelo Nebot Garcia  Trujillo   herminia19@example.com  1962-10-21   \n",
       "1       Desiderio de Ugarte     Marco   teobaldo32@example.com  1914-06-04   \n",
       "2  Macarena Arellano-Azorin  Clemente  inesbarbera@example.org  1989-04-05   \n",
       "\n",
       "                    country       id  \n",
       "0                    Chipre  7243895  \n",
       "1                    Líbano  2106330  \n",
       "2  República Centroafricana   861256  "
      ]
     },
     "execution_count": 6,
     "metadata": {},
     "output_type": "execute_result"
    }
   ],
   "source": [
    "df = pd.DataFrame(ld)\n",
    "df.head(3)"
   ]
  },
  {
   "cell_type": "code",
   "execution_count": 7,
   "id": "ece48645-6f3f-4b6d-831d-73cc89cae8fd",
   "metadata": {},
   "outputs": [],
   "source": [
    "df.to_parquet('datasample.parquet', index=False)"
   ]
  },
  {
   "cell_type": "code",
   "execution_count": null,
   "id": "5ba94b76-59d9-49c6-acf0-25eb8aa67f55",
   "metadata": {},
   "outputs": [],
   "source": []
  }
 ],
 "metadata": {
  "kernelspec": {
   "display_name": "Python 3 (ipykernel)",
   "language": "python",
   "name": "python3"
  },
  "language_info": {
   "codemirror_mode": {
    "name": "ipython",
    "version": 3
   },
   "file_extension": ".py",
   "mimetype": "text/x-python",
   "name": "python",
   "nbconvert_exporter": "python",
   "pygments_lexer": "ipython3",
   "version": "3.10.0"
  }
 },
 "nbformat": 4,
 "nbformat_minor": 5
}
